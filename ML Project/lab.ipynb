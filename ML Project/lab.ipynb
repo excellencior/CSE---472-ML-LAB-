{
 "cells": [
  {
   "cell_type": "markdown",
   "metadata": {},
   "source": [
    "# Necessary Links\n",
    "---\n",
    "[Dataset Description](https://github.com/mila-iqia/ddxplus)"
   ]
  },
  {
   "cell_type": "markdown",
   "metadata": {},
   "source": [
    "# Downloads\n",
    "---"
   ]
  },
  {
   "cell_type": "code",
   "execution_count": 1,
   "metadata": {},
   "outputs": [
    {
     "name": "stdout",
     "output_type": "stream",
     "text": [
      "--2024-11-23 23:07:13--  https://huggingface.co/datasets/aai530-group6/ddxplus/resolve/main/release_evidences.json\n",
      "Resolving huggingface.co (huggingface.co)... 18.155.107.71, 18.155.107.35, 18.155.107.105, ...\n",
      "Connecting to huggingface.co (huggingface.co)|18.155.107.71|:443... connected.\n",
      "HTTP request sent, awaiting response... 200 OK\n",
      "Length: 120263 (117K) [text/plain]\n",
      "Saving to: ‘release_evidences.json’\n",
      "\n",
      "release_evidences.j 100%[===================>] 117.44K  --.-KB/s    in 0.03s   \n",
      "\n",
      "2024-11-23 23:07:13 (4.02 MB/s) - ‘release_evidences.json’ saved [120263/120263]\n",
      "\n"
     ]
    }
   ],
   "source": [
    "!wget 'https://huggingface.co/datasets/aai530-group6/ddxplus/resolve/main/release_evidences.json'"
   ]
  },
  {
   "cell_type": "code",
   "execution_count": 2,
   "metadata": {},
   "outputs": [
    {
     "name": "stdout",
     "output_type": "stream",
     "text": [
      "--2024-11-23 23:10:40--  https://huggingface.co/datasets/aai530-group6/ddxplus/resolve/main/README.md\n",
      "Resolving huggingface.co (huggingface.co)... 18.155.107.35, 18.155.107.105, 18.155.107.71, ...\n",
      "Connecting to huggingface.co (huggingface.co)|18.155.107.35|:443... connected.\n",
      "HTTP request sent, awaiting response... 200 OK\n",
      "Length: 8417 (8.2K) [text/plain]\n",
      "Saving to: ‘README.md’\n",
      "\n",
      "README.md           100%[===================>]   8.22K  --.-KB/s    in 0s      \n",
      "\n",
      "2024-11-23 23:10:40 (447 MB/s) - ‘README.md’ saved [8417/8417]\n",
      "\n"
     ]
    }
   ],
   "source": [
    "!wget 'https://huggingface.co/datasets/aai530-group6/ddxplus/resolve/main/README.md'"
   ]
  }
 ],
 "metadata": {
  "kernelspec": {
   "display_name": "ml",
   "language": "python",
   "name": "python3"
  },
  "language_info": {
   "codemirror_mode": {
    "name": "ipython",
    "version": 3
   },
   "file_extension": ".py",
   "mimetype": "text/x-python",
   "name": "python",
   "nbconvert_exporter": "python",
   "pygments_lexer": "ipython3",
   "version": "3.12.4"
  }
 },
 "nbformat": 4,
 "nbformat_minor": 2
}
