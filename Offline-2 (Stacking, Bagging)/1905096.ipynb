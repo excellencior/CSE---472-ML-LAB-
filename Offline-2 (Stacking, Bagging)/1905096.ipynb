{
  "cells": [
    {
      "cell_type": "code",
      "execution_count": null,
      "metadata": {
        "colab": {
          "base_uri": "https://localhost:8080/"
        },
        "id": "khZDvA9TtXq0",
        "outputId": "9d0449f3-5ea1-487b-af00-338797492205"
      },
      "outputs": [
        {
          "name": "stdout",
          "output_type": "stream",
          "text": [
            "Mounted at /content/drive\n",
            "Requirement already satisfied: scikit-learn in /usr/local/lib/python3.10/dist-packages (1.3.2)\n",
            "Requirement already satisfied: numpy<2.0,>=1.17.3 in /usr/local/lib/python3.10/dist-packages (from scikit-learn) (1.26.4)\n",
            "Requirement already satisfied: scipy>=1.5.0 in /usr/local/lib/python3.10/dist-packages (from scikit-learn) (1.13.1)\n",
            "Requirement already satisfied: joblib>=1.1.1 in /usr/local/lib/python3.10/dist-packages (from scikit-learn) (1.4.2)\n",
            "Requirement already satisfied: threadpoolctl>=2.0.0 in /usr/local/lib/python3.10/dist-packages (from scikit-learn) (3.5.0)\n"
          ]
        }
      ],
      "source": [
        "# from google.colab import drive\n",
        "# drive.mount('/content/drive')\n",
        "\n",
        "# !cp -r '/content/drive/MyDrive/4-2/Machine Learning CSE-471,472/Lab/Offline-2 (Stacking, Bagging)/dataset' '.'\n",
        "# !pip install scikit-learn"
      ]
    },
    {
      "cell_type": "markdown",
      "metadata": {},
      "source": [
        "# RUN-1"
      ]
    },
    {
      "cell_type": "markdown",
      "metadata": {
        "id": "o9-AeXLueVAU"
      },
      "source": [
        "## Imports\n",
        "---"
      ]
    },
    {
      "cell_type": "code",
      "execution_count": 4,
      "metadata": {
        "id": "dc6UcjDFeVAX"
      },
      "outputs": [],
      "source": [
        "import pandas as pd\n",
        "import numpy as np\n",
        "from sklearn.preprocessing import LabelEncoder\n",
        "from sklearn.preprocessing import MinMaxScaler, StandardScaler\n",
        "from sklearn.linear_model import LogisticRegression\n",
        "from sklearn.metrics import accuracy_score\n",
        "from sklearn.model_selection import train_test_split\n",
        "import seaborn as sns\n",
        "import matplotlib.pyplot as plt\n",
        "\n",
        "# check for Log.txt file existence, if not create it\n",
        "import os\n",
        "if not os.path.exists('Log.txt'):\n",
        "    with open('Log.txt', 'w'): pass"
      ]
    },
    {
      "cell_type": "markdown",
      "metadata": {
        "id": "-Y4kta3QBWKT"
      },
      "source": [
        "## Constants\n",
        "---"
      ]
    },
    {
      "cell_type": "code",
      "execution_count": 5,
      "metadata": {
        "id": "TEIonorO2Rum"
      },
      "outputs": [],
      "source": [
        "NULL_HANDLING = 'null_handling'\n",
        "DUPLICATE_HANDLING = 'duplicate_handling'\n",
        "ENCODING = 'encoding'\n",
        "SEED = 40\n",
        "N_BAGS = 9\n",
        "DATASET = \"telco\""
      ]
    },
    {
      "cell_type": "markdown",
      "metadata": {
        "id": "7EZjGYg3Bbm7"
      },
      "source": [
        "## Logistic Regression Model\n",
        "---"
      ]
    },
    {
      "cell_type": "markdown",
      "metadata": {
        "id": "-Bgg85dnjGKL"
      },
      "source": [
        "**Heuristic Function** -> Sigmoid"
      ]
    },
    {
      "cell_type": "code",
      "execution_count": 6,
      "metadata": {
        "id": "d4-hu5-4jL6L"
      },
      "outputs": [],
      "source": [
        "# x => Feature Vector\n",
        "# wt => Weight vector for feature i\n",
        "def heuristic_func(x, wt):\n",
        "    return 1 / (1 + np.exp(-np.dot(x, wt)))"
      ]
    },
    {
      "cell_type": "code",
      "execution_count": 7,
      "metadata": {
        "id": "FVCbjb_aFlpf"
      },
      "outputs": [],
      "source": [
        "# Returns the prediction probability (continuous) for the given test data\n",
        "def predict(x_test, wt):\n",
        "    y_pred = []\n",
        "    for x in x_test:\n",
        "        x = np.insert(x, 1, 0)\n",
        "        pred_y = heuristic_func(x, wt)\n",
        "        y_pred.append(pred_y)\n",
        "    return y_pred"
      ]
    },
    {
      "cell_type": "code",
      "execution_count": 33,
      "metadata": {
        "id": "NeeYVPxPl4Yw"
      },
      "outputs": [],
      "source": [
        "def train_model(x_train, y_train, epochs, batch_size):\n",
        "    MODEL_DIM = x_train.shape[1]\n",
        "    # Finetuning required for meta classifier training\n",
        "    wt = np.zeros(MODEL_DIM + 1)\n",
        "    alpha, beta, regularizer_type = 0.1, 0.1, 'l1'\n",
        "    print(f'alpha: {alpha}, beta: {beta}, regularizer_type: {regularizer_type}')\n",
        "\n",
        "    for epoch in range(epochs):\n",
        "        grad = np.zeros(MODEL_DIM + 1)\n",
        "\n",
        "        for k, (x, y) in enumerate(zip(x_train, y_train), 1):\n",
        "            x = np.insert(x, 1, 0)\n",
        "            pred_y = heuristic_func(x, wt)\n",
        "\n",
        "            # Accumulate losses along each feature\n",
        "            for i in range (1, len(x)):\n",
        "                grad[i] += (y - pred_y) * x[i]\n",
        "            grad[0] += (y - pred_y)\n",
        "\n",
        "            if k % batch_size == 0:\n",
        "                reg_term = beta * np.sign(wt) if regularizer_type == 'l1' else beta * wt\n",
        "                wt += alpha * (grad - reg_term)\n",
        "                grad.fill(0)\n",
        "\n",
        "        reg_term = beta * np.sign(wt) if regularizer_type == 'l1' else beta * wt\n",
        "        wt += alpha * (grad - reg_term)\n",
        "\n",
        "        if epoch % 10 == 0: alpha *= 0.9\n",
        "    print(f'Epochs --------------------------------- {epochs}')\n",
        "\n",
        "    return wt"
      ]
    },
    {
      "cell_type": "markdown",
      "metadata": {
        "id": "YOPfpssQDKcc"
      },
      "source": [
        "## Accuracy Metrics"
      ]
    },
    {
      "cell_type": "code",
      "execution_count": 9,
      "metadata": {
        "id": "60cUIYeJDM66"
      },
      "outputs": [],
      "source": [
        "from sklearn.metrics import confusion_matrix, roc_auc_score, average_precision_score, f1_score\n",
        "\n",
        "def evaluate_metrics(pred_y, true_y):\n",
        "    # pred_y = prediction probability\n",
        "    # true_y = actual label (discrete)\n",
        "    # Create a confusion matrix\n",
        "\n",
        "    # Calculate AUROC and AUPR using prediction probability and actual label\n",
        "    auroc = roc_auc_score(true_y, pred_y)\n",
        "    aupr = average_precision_score(true_y, pred_y)\n",
        "\n",
        "    pred_y = [1 if y >= 0.5 else 0 for y in pred_y]\n",
        "    tn, fp, fn, tp = confusion_matrix(true_y, pred_y).ravel()\n",
        "\n",
        "    # Calculate sensitivity, specificity, precision, and F1-Score\n",
        "    accuracy = (tp + tn) / (tp + tn + fp + fn)\n",
        "    sensitivity = tp / (tp + fn) if (tp + fn) > 0 else 0  # True Positive Rate\n",
        "    specificity = tn / (tn + fp) if (tn + fp) > 0 else 0  # True Negative Rate\n",
        "    precision = tp / (tp + fp) if (tp + fp) > 0 else 0  # Positive Predictive Value\n",
        "    f1 = f1_score(true_y, pred_y)  # F1 Score\n",
        "\n",
        "    return [accuracy, sensitivity, specificity, precision, f1, auroc, aupr]\n"
      ]
    },
    {
      "cell_type": "markdown",
      "metadata": {
        "id": "uaDsn-oJeVAY"
      },
      "source": [
        "# Data Preprocessings\n",
        "---"
      ]
    },
    {
      "cell_type": "markdown",
      "metadata": {
        "id": "J-ifbb5NO22u"
      },
      "source": [
        "## RUN-2 **(Methods)**"
      ]
    },
    {
      "cell_type": "code",
      "execution_count": 11,
      "metadata": {
        "id": "XzreMXK5eVAZ"
      },
      "outputs": [],
      "source": [
        "def load_dataset(dataset_name, path):\n",
        "    if dataset_name == 'telco':\n",
        "        df = pd.read_csv(path)\n",
        "        target = df.columns[-1]\n",
        "    elif dataset_name == 'adult':\n",
        "        df = pd.read_csv(path, header=None)\n",
        "        # List of column names\n",
        "        column_names = ['age', 'workclass', 'fnlwgt', 'education', 'education-num',\n",
        "                        'marital-status', 'occupation', 'relationship', 'race',\n",
        "                        'sex', 'capital-gain', 'capital-loss', 'hours-per-week', 'native-country', 'income']\n",
        "        df.columns = column_names\n",
        "        # In this dataset, '?' is considered as unknown or you can say it's missing\n",
        "        df.replace(' ?', np.nan, inplace=True)\n",
        "        target = df.columns[-1]\n",
        "    elif dataset_name == 'credit_card':\n",
        "        df = pd.read_csv(path)\n",
        "        target = df.columns[-1]\n",
        "    else:\n",
        "        print(\"Online dataset loaded\")\n",
        "        df = pd.read_csv(path)\n",
        "        target = df.columns[-1]\n",
        "    print(f\"The target label: {target}\", df[target].unique())\n",
        "    return df, target\n",
        "\n",
        "def get_non_num_cols(df, target):\n",
        "    non_num_cols = [col for col in df.select_dtypes(exclude='number').columns if col != target]\n",
        "    print(\"Total non-numeric cols:\", len(non_num_cols))\n",
        "    return non_num_cols\n",
        "\n",
        "def data_cleaning(df, cleaning_type, dataset_type='train', df_prime=None):\n",
        "    non_num_cols = get_non_num_cols(df, target)\n",
        "\n",
        "    # NULL === nan, '?'\n",
        "    if cleaning_type == NULL_HANDLING:\n",
        "        print(\"Total null values:\", df.isnull().sum().sum())\n",
        "        # If there are null values in a feature, replace that with the mean and mode for the non-numerical valued columns\n",
        "        # Except the target column \"Churn\"\n",
        "        if dataset_type == 'train':\n",
        "            df.fillna(df.mean(numeric_only=True), inplace=True)\n",
        "        else:\n",
        "            # Don't use mean from the test-set to fill missing values in the test set, use train set for mean, mode\n",
        "            df.fillna(df_prime.mean(numeric_only=True), inplace=True)\n",
        "\n",
        "        # Replace null values with the mode of the column (non-numerics)\n",
        "        for col in non_num_cols:\n",
        "            if dataset_type == 'train':\n",
        "                df[col] = df[col].fillna(df[col].mode()[0])\n",
        "            else:\n",
        "                # Don't use mean from the test-set to fill missing values in the test set, use train set for mean, mode\n",
        "                df[col] = df[col].fillna(df_prime[col].mode()[0])\n",
        "\n",
        "        # If there are null values in the target columns, remove those rows\n",
        "        df.dropna(subset=[target], inplace=True)\n",
        "\n",
        "    if cleaning_type == DUPLICATE_HANDLING:\n",
        "        print('Total rows:', df.shape[0])\n",
        "        print('Total duplicates:', df.duplicated(keep=False).sum())\n",
        "        print('Can be removed:', df.duplicated(keep='first').sum())\n",
        "        df.drop_duplicates(inplace=True)\n",
        "        print('After removing duplicates:', df.shape[0])\n",
        "\n",
        "def encode_data(features, label):\n",
        "    non_num_cols = get_non_num_cols(features, '')\n",
        "    # Features encoding\n",
        "    for col in non_num_cols:\n",
        "        features[col] = features[col].astype('category')\n",
        "        print(col, features[col].nunique())\n",
        "\n",
        "    # One hot encoding -> Features\n",
        "    features = pd.get_dummies(features)\n",
        "\n",
        "    # Label encoding -> Target\n",
        "    label[label.columns[0]] = LabelEncoder().fit_transform(label[label.columns[0]])\n",
        "    return features, label"
      ]
    },
    {
      "cell_type": "markdown",
      "metadata": {},
      "source": [
        "## RUN-3 **(Dataset: ONLINE)**\n",
        "features, target"
      ]
    },
    {
      "cell_type": "code",
      "execution_count": 12,
      "metadata": {},
      "outputs": [
        {
          "name": "stdout",
          "output_type": "stream",
          "text": [
            "Online dataset loaded\n",
            "The target label: y [1 0]\n"
          ]
        }
      ],
      "source": [
        "DATASET = \"B1\"\n",
        "df, target = load_dataset(DATASET, 'B1.csv')"
      ]
    },
    {
      "cell_type": "markdown",
      "metadata": {},
      "source": [
        "### NULL HANDLING"
      ]
    },
    {
      "cell_type": "code",
      "execution_count": 14,
      "metadata": {},
      "outputs": [
        {
          "name": "stdout",
          "output_type": "stream",
          "text": [
            "Total non-numeric cols: 0\n",
            "Total null values: 0\n"
          ]
        }
      ],
      "source": [
        "data_cleaning(df, NULL_HANDLING)"
      ]
    },
    {
      "cell_type": "markdown",
      "metadata": {},
      "source": [
        "### DUPLICATE HANDLING\n",
        "If duplicate examples are present in the dataset, keep the original"
      ]
    },
    {
      "cell_type": "code",
      "execution_count": 15,
      "metadata": {},
      "outputs": [
        {
          "name": "stdout",
          "output_type": "stream",
          "text": [
            "Total non-numeric cols: 0\n",
            "Total rows: 3000\n",
            "Total duplicates: 0\n",
            "Can be removed: 0\n",
            "After removing duplicates: 3000\n"
          ]
        }
      ],
      "source": [
        "data_cleaning(df, DUPLICATE_HANDLING)"
      ]
    },
    {
      "cell_type": "markdown",
      "metadata": {},
      "source": [
        "### Features, Target SPLIT"
      ]
    },
    {
      "cell_type": "code",
      "execution_count": 16,
      "metadata": {},
      "outputs": [],
      "source": [
        "df.reset_index(drop=True, inplace=True)  # Apparantly, impacts the corr analysis\n",
        "\n",
        "features = df.drop(columns=[target])\n",
        "label = df[[target]].copy()"
      ]
    },
    {
      "cell_type": "markdown",
      "metadata": {},
      "source": [
        "### ENCODING"
      ]
    },
    {
      "cell_type": "code",
      "execution_count": 17,
      "metadata": {},
      "outputs": [
        {
          "data": {
            "text/plain": [
              "(3000, 2)"
            ]
          },
          "execution_count": 17,
          "metadata": {},
          "output_type": "execute_result"
        }
      ],
      "source": [
        "# Before one-hot encoding\n",
        "features.shape"
      ]
    },
    {
      "cell_type": "code",
      "execution_count": 18,
      "metadata": {},
      "outputs": [
        {
          "name": "stdout",
          "output_type": "stream",
          "text": [
            "Total non-numeric cols: 0\n"
          ]
        }
      ],
      "source": [
        "features, label = encode_data(features, label)"
      ]
    },
    {
      "cell_type": "code",
      "execution_count": 19,
      "metadata": {},
      "outputs": [
        {
          "data": {
            "text/plain": [
              "(3000, 2)"
            ]
          },
          "execution_count": 19,
          "metadata": {},
          "output_type": "execute_result"
        }
      ],
      "source": [
        "# After one-hot encoding\n",
        "features.shape"
      ]
    },
    {
      "cell_type": "markdown",
      "metadata": {
        "id": "2dOtR6IUeVAY"
      },
      "source": [
        "## RUN-3 **(Dataset: Telco)**\n",
        "features, target"
      ]
    },
    {
      "cell_type": "code",
      "execution_count": 8,
      "metadata": {
        "colab": {
          "base_uri": "https://localhost:8080/"
        },
        "id": "wrDXJCRb1Jqo",
        "outputId": "ffa5d5f5-b01e-431c-d194-0c0f370bf734"
      },
      "outputs": [
        {
          "name": "stdout",
          "output_type": "stream",
          "text": [
            "The target label: Churn ['No' 'Yes']\n",
            "Irrelevent data: customerID\n"
          ]
        }
      ],
      "source": [
        "DATASET = \"telco\"\n",
        "df, target = load_dataset(DATASET, 'dataset/telco/WA_Fn-UseC_-Telco-Customer-Churn.csv')\n",
        "\n",
        "# Irrelevent data\n",
        "print('Irrelevent data:', df.columns[0])\n",
        "df.drop(columns=[df.columns[0]], inplace=True, axis=1) # Might confuse the model, so drop"
      ]
    },
    {
      "cell_type": "markdown",
      "metadata": {
        "id": "3hi6Zj1m1SgB"
      },
      "source": [
        "**Handling Mismatches**"
      ]
    },
    {
      "cell_type": "code",
      "execution_count": 9,
      "metadata": {
        "colab": {
          "base_uri": "https://localhost:8080/"
        },
        "id": "xCpRneImeVAa",
        "outputId": "b3c16c17-6033-44ff-a8b6-a69c386672e9"
      },
      "outputs": [
        {
          "name": "stdout",
          "output_type": "stream",
          "text": [
            "<class 'pandas.core.frame.DataFrame'>\n",
            "RangeIndex: 7043 entries, 0 to 7042\n",
            "Data columns (total 20 columns):\n",
            " #   Column            Non-Null Count  Dtype  \n",
            "---  ------            --------------  -----  \n",
            " 0   gender            7043 non-null   object \n",
            " 1   SeniorCitizen     7043 non-null   int64  \n",
            " 2   Partner           7043 non-null   object \n",
            " 3   Dependents        7043 non-null   object \n",
            " 4   tenure            7043 non-null   int64  \n",
            " 5   PhoneService      7043 non-null   object \n",
            " 6   MultipleLines     7043 non-null   object \n",
            " 7   InternetService   7043 non-null   object \n",
            " 8   OnlineSecurity    7043 non-null   object \n",
            " 9   OnlineBackup      7043 non-null   object \n",
            " 10  DeviceProtection  7043 non-null   object \n",
            " 11  TechSupport       7043 non-null   object \n",
            " 12  StreamingTV       7043 non-null   object \n",
            " 13  StreamingMovies   7043 non-null   object \n",
            " 14  Contract          7043 non-null   object \n",
            " 15  PaperlessBilling  7043 non-null   object \n",
            " 16  PaymentMethod     7043 non-null   object \n",
            " 17  MonthlyCharges    7043 non-null   float64\n",
            " 18  TotalCharges      7032 non-null   float64\n",
            " 19  Churn             7043 non-null   object \n",
            "dtypes: float64(2), int64(2), object(16)\n",
            "memory usage: 1.1+ MB\n"
          ]
        }
      ],
      "source": [
        "# Actual data types\n",
        "# TotalCharges is object, should be float64\n",
        "mismatch_col = 'TotalCharges'\n",
        "df[mismatch_col] = pd.to_numeric(df[mismatch_col], errors='coerce')\n",
        "\n",
        "df.info()"
      ]
    },
    {
      "cell_type": "markdown",
      "metadata": {
        "id": "4t0StPogeVAe"
      },
      "source": [
        "### NULL HANDLING"
      ]
    },
    {
      "cell_type": "code",
      "execution_count": 10,
      "metadata": {
        "colab": {
          "base_uri": "https://localhost:8080/"
        },
        "id": "u5l-y6DoeVAe",
        "outputId": "37f71ba2-8a85-43f9-b7e7-b3fdf983ed86"
      },
      "outputs": [
        {
          "name": "stdout",
          "output_type": "stream",
          "text": [
            "Total non-numeric cols: 15\n",
            "Total null values: 11\n"
          ]
        }
      ],
      "source": [
        "data_cleaning(df, NULL_HANDLING)"
      ]
    },
    {
      "cell_type": "markdown",
      "metadata": {
        "id": "J3H6D3ePeVAf"
      },
      "source": [
        "### DUPLICATE HANDLING\n",
        "If duplicate examples are present in the dataset, keep the original"
      ]
    },
    {
      "cell_type": "code",
      "execution_count": 11,
      "metadata": {
        "colab": {
          "base_uri": "https://localhost:8080/"
        },
        "id": "RN2jRGlMeVAf",
        "outputId": "7c254caa-52f3-4b96-f6dc-ae709939297e"
      },
      "outputs": [
        {
          "name": "stdout",
          "output_type": "stream",
          "text": [
            "Total non-numeric cols: 15\n",
            "Total rows: 7043\n",
            "Total duplicates: 42\n",
            "Can be removed: 22\n",
            "After removing duplicates: 7021\n"
          ]
        }
      ],
      "source": [
        "data_cleaning(df, DUPLICATE_HANDLING)"
      ]
    },
    {
      "cell_type": "markdown",
      "metadata": {
        "id": "a9W7gK0-eVAf"
      },
      "source": [
        "### Features, Target SPLIT"
      ]
    },
    {
      "cell_type": "code",
      "execution_count": 12,
      "metadata": {
        "id": "Ccq3XJMJeVAg"
      },
      "outputs": [],
      "source": [
        "df.reset_index(drop=True, inplace=True)  # Apparantly, impacts the corr analysis\n",
        "\n",
        "features = df.drop(columns=[target])\n",
        "label = df[[target]].copy()"
      ]
    },
    {
      "cell_type": "markdown",
      "metadata": {
        "id": "ysbc_MI5eVAg"
      },
      "source": [
        "### ENCODING"
      ]
    },
    {
      "cell_type": "code",
      "execution_count": 13,
      "metadata": {
        "colab": {
          "base_uri": "https://localhost:8080/"
        },
        "id": "2RoJomUyeVAg",
        "outputId": "c76f5dd7-288d-4ae4-ecea-85841422718d"
      },
      "outputs": [
        {
          "data": {
            "text/plain": [
              "(7021, 19)"
            ]
          },
          "execution_count": 13,
          "metadata": {},
          "output_type": "execute_result"
        }
      ],
      "source": [
        "# Before one-hot encoding\n",
        "features.shape"
      ]
    },
    {
      "cell_type": "code",
      "execution_count": 14,
      "metadata": {
        "colab": {
          "base_uri": "https://localhost:8080/"
        },
        "id": "TaKxU_y7eVAh",
        "outputId": "eaef20e6-cc90-4618-fd89-15324c67a64e"
      },
      "outputs": [
        {
          "name": "stdout",
          "output_type": "stream",
          "text": [
            "Total non-numeric cols: 15\n",
            "gender 2\n",
            "Partner 2\n",
            "Dependents 2\n",
            "PhoneService 2\n",
            "MultipleLines 3\n",
            "InternetService 3\n",
            "OnlineSecurity 3\n",
            "OnlineBackup 3\n",
            "DeviceProtection 3\n",
            "TechSupport 3\n",
            "StreamingTV 3\n",
            "StreamingMovies 3\n",
            "Contract 3\n",
            "PaperlessBilling 2\n",
            "PaymentMethod 4\n"
          ]
        }
      ],
      "source": [
        "features, label = encode_data(features, label)"
      ]
    },
    {
      "cell_type": "code",
      "execution_count": 15,
      "metadata": {
        "colab": {
          "base_uri": "https://localhost:8080/"
        },
        "id": "kM29J7MbeVAi",
        "outputId": "404a081d-5076-4ab9-9cc9-0e0309db8110"
      },
      "outputs": [
        {
          "data": {
            "text/plain": [
              "(7021, 45)"
            ]
          },
          "execution_count": 15,
          "metadata": {},
          "output_type": "execute_result"
        }
      ],
      "source": [
        "# After one-hot encoding\n",
        "features.shape"
      ]
    },
    {
      "cell_type": "markdown",
      "metadata": {
        "id": "xJuna4WDeVAi"
      },
      "source": [
        "## RUN-3 **(Dataset: adult)**\n",
        "features, target"
      ]
    },
    {
      "cell_type": "markdown",
      "metadata": {
        "id": "yw6pZOTIFx8K"
      },
      "source": [
        "**Train-Set**"
      ]
    },
    {
      "cell_type": "code",
      "execution_count": 144,
      "metadata": {
        "colab": {
          "base_uri": "https://localhost:8080/"
        },
        "id": "8fzfZmvt9zNA",
        "outputId": "676710b1-4cc3-4cc6-c5c5-8cc0c5d4f2ce"
      },
      "outputs": [
        {
          "name": "stdout",
          "output_type": "stream",
          "text": [
            "The target label: income [' <=50K' ' >50K']\n",
            "<class 'pandas.core.frame.DataFrame'>\n",
            "RangeIndex: 32561 entries, 0 to 32560\n",
            "Data columns (total 15 columns):\n",
            " #   Column          Non-Null Count  Dtype \n",
            "---  ------          --------------  ----- \n",
            " 0   age             32561 non-null  int64 \n",
            " 1   workclass       30725 non-null  object\n",
            " 2   fnlwgt          32561 non-null  int64 \n",
            " 3   education       32561 non-null  object\n",
            " 4   education-num   32561 non-null  int64 \n",
            " 5   marital-status  32561 non-null  object\n",
            " 6   occupation      30718 non-null  object\n",
            " 7   relationship    32561 non-null  object\n",
            " 8   race            32561 non-null  object\n",
            " 9   sex             32561 non-null  object\n",
            " 10  capital-gain    32561 non-null  int64 \n",
            " 11  capital-loss    32561 non-null  int64 \n",
            " 12  hours-per-week  32561 non-null  int64 \n",
            " 13  native-country  31978 non-null  object\n",
            " 14  income          32561 non-null  object\n",
            "dtypes: int64(6), object(9)\n",
            "memory usage: 3.7+ MB\n"
          ]
        }
      ],
      "source": [
        "DATASET = 'adult'\n",
        "df, target = load_dataset(DATASET, 'dataset/adult/adult.data')\n",
        "df.info()"
      ]
    },
    {
      "cell_type": "markdown",
      "metadata": {
        "id": "83p60bhjF1yD"
      },
      "source": [
        "**Test-Set**"
      ]
    },
    {
      "cell_type": "code",
      "execution_count": 145,
      "metadata": {
        "colab": {
          "base_uri": "https://localhost:8080/"
        },
        "id": "l8nN1ECNF4vj",
        "outputId": "38d8734e-8f5a-4939-e153-220fd3f4ed1e"
      },
      "outputs": [
        {
          "name": "stdout",
          "output_type": "stream",
          "text": [
            "The target label: income [' <=50K.' ' >50K.']\n",
            "<class 'pandas.core.frame.DataFrame'>\n",
            "RangeIndex: 16281 entries, 0 to 16280\n",
            "Data columns (total 15 columns):\n",
            " #   Column          Non-Null Count  Dtype \n",
            "---  ------          --------------  ----- \n",
            " 0   age             16281 non-null  int64 \n",
            " 1   workclass       15318 non-null  object\n",
            " 2   fnlwgt          16281 non-null  int64 \n",
            " 3   education       16281 non-null  object\n",
            " 4   education-num   16281 non-null  int64 \n",
            " 5   marital-status  16281 non-null  object\n",
            " 6   occupation      15315 non-null  object\n",
            " 7   relationship    16281 non-null  object\n",
            " 8   race            16281 non-null  object\n",
            " 9   sex             16281 non-null  object\n",
            " 10  capital-gain    16281 non-null  int64 \n",
            " 11  capital-loss    16281 non-null  int64 \n",
            " 12  hours-per-week  16281 non-null  int64 \n",
            " 13  native-country  16007 non-null  object\n",
            " 14  income          16281 non-null  object\n",
            "dtypes: int64(6), object(9)\n",
            "memory usage: 1.9+ MB\n"
          ]
        }
      ],
      "source": [
        "test_df, target = load_dataset('adult', 'dataset/adult/adult.test')\n",
        "test_df.info()"
      ]
    },
    {
      "cell_type": "markdown",
      "metadata": {
        "id": "GwQeDsBBeVAk"
      },
      "source": [
        "### NULL HANDLING"
      ]
    },
    {
      "cell_type": "code",
      "execution_count": 146,
      "metadata": {
        "colab": {
          "base_uri": "https://localhost:8080/"
        },
        "id": "JyuifByFBp-R",
        "outputId": "735943b5-b5df-4f1e-a708-4a6536ef98f6"
      },
      "outputs": [
        {
          "name": "stdout",
          "output_type": "stream",
          "text": [
            "Train-Set\n",
            "Total non-numeric cols: 8\n",
            "Total null values: 4262\n",
            "\n",
            "Test-Set\n",
            "Total non-numeric cols: 8\n",
            "Total null values: 2203\n"
          ]
        }
      ],
      "source": [
        "print(\"Train-Set\")\n",
        "data_cleaning(df, NULL_HANDLING)\n",
        "\n",
        "print(\"\\nTest-Set\")\n",
        "data_cleaning(test_df, NULL_HANDLING, dataset_type='test', df_prime=df)"
      ]
    },
    {
      "cell_type": "code",
      "execution_count": 147,
      "metadata": {
        "colab": {
          "base_uri": "https://localhost:8080/"
        },
        "id": "5z7h4Vn-SOO3",
        "outputId": "9a3f6a56-f92f-4adf-efe7-776604ec6ba9"
      },
      "outputs": [
        {
          "name": "stdout",
          "output_type": "stream",
          "text": [
            "Absent Categories in the test set: {'Holand-Netherlands'}\n"
          ]
        }
      ],
      "source": [
        "# Finding the missing category (native-country) in the test_set\n",
        "# List of actual categories\n",
        "actual_categories = [\n",
        "    'United-States', 'Cambodia', 'England', 'Puerto-Rico', 'Canada',\n",
        "    'Germany', 'Outlying-US(Guam-USVI-etc)', 'India', 'Japan',\n",
        "    'Greece', 'South', 'China', 'Cuba', 'Iran', 'Honduras',\n",
        "    'Philippines', 'Italy', 'Poland', 'Jamaica', 'Vietnam',\n",
        "    'Mexico', 'Portugal', 'Ireland', 'France', 'Dominican-Republic',\n",
        "    'Laos', 'Ecuador', 'Taiwan', 'Haiti', 'Columbia', 'Hungary',\n",
        "    'Guatemala', 'Nicaragua', 'Scotland', 'Thailand', 'Yugoslavia',\n",
        "    'El-Salvador', 'Trinadad&Tobago', 'Peru', 'Hong',\n",
        "    'Holand-Netherlands'\n",
        "]\n",
        "\n",
        "# Get unique values from the DataFrame column\n",
        "unique_values = test_df['native-country'].str.strip().unique()\n",
        "\n",
        "# Find absent categories\n",
        "absent_categories = set(actual_categories) - set(unique_values)\n",
        "\n",
        "print(\"Absent Categories in the test set:\", absent_categories)\n"
      ]
    },
    {
      "cell_type": "markdown",
      "metadata": {
        "id": "tini9-FeeVAm"
      },
      "source": [
        "### DUPLICATE HANDLING\n",
        "If duplicate examples are present in the dataset, keep the original"
      ]
    },
    {
      "cell_type": "code",
      "execution_count": 148,
      "metadata": {
        "id": "BhqH0bwUnsB4"
      },
      "outputs": [],
      "source": [
        "# Duplicate visualization\n",
        "# df[df.duplicated(keep='last')].sort_values(by=column_names).head(10)"
      ]
    },
    {
      "cell_type": "code",
      "execution_count": 149,
      "metadata": {
        "colab": {
          "base_uri": "https://localhost:8080/"
        },
        "id": "1vgqFcjGeVAm",
        "outputId": "ce2bacb1-b4ec-459f-fa15-25e7be9e74dc"
      },
      "outputs": [
        {
          "name": "stdout",
          "output_type": "stream",
          "text": [
            "Train-Set\n",
            "Total non-numeric cols: 8\n",
            "Total rows: 32561\n",
            "Total duplicates: 47\n",
            "Can be removed: 24\n",
            "After removing duplicates: 32537\n",
            "\n",
            "Test-Set\n",
            "Total non-numeric cols: 8\n",
            "Total rows: 16281\n",
            "Total duplicates: 10\n",
            "Can be removed: 5\n",
            "After removing duplicates: 16276\n"
          ]
        }
      ],
      "source": [
        "print(\"Train-Set\")\n",
        "data_cleaning(df, DUPLICATE_HANDLING)\n",
        "\n",
        "print(\"\\nTest-Set\")\n",
        "data_cleaning(test_df, DUPLICATE_HANDLING)"
      ]
    },
    {
      "cell_type": "markdown",
      "metadata": {
        "id": "DZzb5VMPeVAn"
      },
      "source": [
        "### Features, Target SPLIT"
      ]
    },
    {
      "cell_type": "code",
      "execution_count": 150,
      "metadata": {
        "id": "TrvpLhNSeVAn"
      },
      "outputs": [],
      "source": [
        "df.reset_index(drop=True, inplace=True) # Apparantly, impacts the corr analysis\n",
        "\n",
        "features = df.drop(columns=[target])\n",
        "test_features = test_df.drop(columns=[target])\n",
        "\n",
        "label = df[[target]].copy()\n",
        "test_label = test_df[[target]].copy()"
      ]
    },
    {
      "cell_type": "markdown",
      "metadata": {
        "id": "CrORjR62eVAo"
      },
      "source": [
        "### ENCODING"
      ]
    },
    {
      "cell_type": "code",
      "execution_count": 151,
      "metadata": {
        "colab": {
          "base_uri": "https://localhost:8080/"
        },
        "id": "eYsr7czOeVAp",
        "outputId": "f2128172-0483-40c1-b3b6-c23b0ee7c71c"
      },
      "outputs": [
        {
          "name": "stdout",
          "output_type": "stream",
          "text": [
            "train: (32537, 14)\n",
            "test: (16276, 14)\n"
          ]
        }
      ],
      "source": [
        "# Before one-hot encoding\n",
        "print(\"train:\", features.shape)\n",
        "print(\"test:\", test_features.shape)"
      ]
    },
    {
      "cell_type": "code",
      "execution_count": 152,
      "metadata": {
        "colab": {
          "base_uri": "https://localhost:8080/"
        },
        "id": "bDk-VXS7eVAq",
        "outputId": "5e21a5b4-6e52-4987-d0be-c1e3cfa95623"
      },
      "outputs": [
        {
          "name": "stdout",
          "output_type": "stream",
          "text": [
            "Train-Set\n",
            "Total non-numeric cols: 8\n",
            "workclass 8\n",
            "education 16\n",
            "marital-status 7\n",
            "occupation 14\n",
            "relationship 6\n",
            "race 5\n",
            "sex 2\n",
            "native-country 41\n",
            "\n",
            "Test-Set\n",
            "Total non-numeric cols: 8\n",
            "workclass 8\n",
            "education 16\n",
            "marital-status 7\n",
            "occupation 14\n",
            "relationship 6\n",
            "race 5\n",
            "sex 2\n",
            "native-country 40\n"
          ]
        }
      ],
      "source": [
        "print(\"Train-Set\")\n",
        "features, label = encode_data(features, label)\n",
        "\n",
        "print(\"\\nTest-Set\")\n",
        "test_features, test_label = encode_data(test_features, test_label)"
      ]
    },
    {
      "cell_type": "code",
      "execution_count": 153,
      "metadata": {
        "colab": {
          "base_uri": "https://localhost:8080/"
        },
        "id": "mg7f714YeVAq",
        "outputId": "b80c0dcb-76ef-4e8a-869b-cedd84b4cfbe"
      },
      "outputs": [
        {
          "name": "stdout",
          "output_type": "stream",
          "text": [
            "train: (32537, 105)\n",
            "test: (16276, 104)\n"
          ]
        }
      ],
      "source": [
        "# After one-hot encoding\n",
        "print(\"train:\", features.shape)\n",
        "print(\"test:\", test_features.shape)\n"
      ]
    },
    {
      "cell_type": "markdown",
      "metadata": {
        "id": "oD25GqZ3LXbC"
      },
      "source": [
        "## RUN-3 **(Dataset: creditcard)**\n",
        "features, target"
      ]
    },
    {
      "cell_type": "code",
      "execution_count": 154,
      "metadata": {
        "colab": {
          "base_uri": "https://localhost:8080/"
        },
        "id": "36LmLYmGLXbE",
        "outputId": "8c479158-f77b-4698-a8d0-7962aad7279e"
      },
      "outputs": [
        {
          "name": "stdout",
          "output_type": "stream",
          "text": [
            "The target label: Class [0 1]\n",
            "<class 'pandas.core.frame.DataFrame'>\n",
            "RangeIndex: 284807 entries, 0 to 284806\n",
            "Data columns (total 31 columns):\n",
            " #   Column  Non-Null Count   Dtype  \n",
            "---  ------  --------------   -----  \n",
            " 0   Time    284807 non-null  float64\n",
            " 1   V1      284807 non-null  float64\n",
            " 2   V2      284807 non-null  float64\n",
            " 3   V3      284807 non-null  float64\n",
            " 4   V4      284807 non-null  float64\n",
            " 5   V5      284807 non-null  float64\n",
            " 6   V6      284807 non-null  float64\n",
            " 7   V7      284807 non-null  float64\n",
            " 8   V8      284807 non-null  float64\n",
            " 9   V9      284807 non-null  float64\n",
            " 10  V10     284807 non-null  float64\n",
            " 11  V11     284807 non-null  float64\n",
            " 12  V12     284807 non-null  float64\n",
            " 13  V13     284807 non-null  float64\n",
            " 14  V14     284807 non-null  float64\n",
            " 15  V15     284807 non-null  float64\n",
            " 16  V16     284807 non-null  float64\n",
            " 17  V17     284807 non-null  float64\n",
            " 18  V18     284807 non-null  float64\n",
            " 19  V19     284807 non-null  float64\n",
            " 20  V20     284807 non-null  float64\n",
            " 21  V21     284807 non-null  float64\n",
            " 22  V22     284807 non-null  float64\n",
            " 23  V23     284807 non-null  float64\n",
            " 24  V24     284807 non-null  float64\n",
            " 25  V25     284807 non-null  float64\n",
            " 26  V26     284807 non-null  float64\n",
            " 27  V27     284807 non-null  float64\n",
            " 28  V28     284807 non-null  float64\n",
            " 29  Amount  284807 non-null  float64\n",
            " 30  Class   284807 non-null  int64  \n",
            "dtypes: float64(30), int64(1)\n",
            "memory usage: 67.4 MB\n"
          ]
        }
      ],
      "source": [
        "DATASET = 'credit_card'\n",
        "df, target = load_dataset(DATASET, 'dataset/credit_card/creditcard.csv')\n",
        "df.info()"
      ]
    },
    {
      "cell_type": "markdown",
      "metadata": {
        "id": "Cql0aMeimoNu"
      },
      "source": [
        "### BALANCING Train-Data"
      ]
    },
    {
      "cell_type": "code",
      "execution_count": 155,
      "metadata": {
        "colab": {
          "base_uri": "https://localhost:8080/"
        },
        "id": "8Ha-B33VmuyA",
        "outputId": "ced87e56-3bc6-4696-c54d-7d90e884c008"
      },
      "outputs": [
        {
          "name": "stdout",
          "output_type": "stream",
          "text": [
            "Total positive samples (1): 492\n",
            "Total negative samples (0): 284315\n"
          ]
        },
        {
          "data": {
            "text/plain": [
              "(20492, 31)"
            ]
          },
          "execution_count": 155,
          "metadata": {},
          "output_type": "execute_result"
        }
      ],
      "source": [
        "# Separate positive and negative samples\n",
        "positive_samples = df[df[target] == 1]\n",
        "negative_samples = df[df[target] == 0]\n",
        "\n",
        "print(\"Total positive samples (1):\", len(positive_samples))\n",
        "print(\"Total negative samples (0):\", len(negative_samples))\n",
        "# Scarce data class is \"1\"\n",
        "\n",
        "# Randomly select 20,000 negative samples\n",
        "negative_samples_selected = negative_samples.sample(n=20000, random_state=SEED)\n",
        "\n",
        "df = pd.concat([positive_samples, negative_samples_selected])\n",
        "\n",
        "# Shuffle the resulting DataFrame (optional)\n",
        "df = df.sample(frac=1, random_state=SEED).reset_index(drop=True)\n",
        "\n",
        "df.shape"
      ]
    },
    {
      "cell_type": "markdown",
      "metadata": {
        "id": "7poONtQKLXbG"
      },
      "source": [
        "### NULL HANDLING"
      ]
    },
    {
      "cell_type": "code",
      "execution_count": 156,
      "metadata": {
        "colab": {
          "base_uri": "https://localhost:8080/"
        },
        "id": "ASP4xH-ELXbH",
        "outputId": "78baf1df-7d17-4954-e5b4-d033771cfec2"
      },
      "outputs": [
        {
          "name": "stdout",
          "output_type": "stream",
          "text": [
            "Total non-numeric cols: 0\n",
            "Total null values: 0\n"
          ]
        }
      ],
      "source": [
        "data_cleaning(df, NULL_HANDLING)"
      ]
    },
    {
      "cell_type": "markdown",
      "metadata": {
        "id": "wDsfl-rOLXbH"
      },
      "source": [
        "### DUPLICATE HANDLING\n",
        "If duplicate examples are present in the dataset, keep the original"
      ]
    },
    {
      "cell_type": "code",
      "execution_count": 157,
      "metadata": {
        "colab": {
          "base_uri": "https://localhost:8080/",
          "height": 383
        },
        "id": "Xm1wJlECLXbI",
        "outputId": "5dd162a5-3507-46e2-d244-a025109ce879"
      },
      "outputs": [
        {
          "data": {
            "text/html": [
              "<div>\n",
              "<style scoped>\n",
              "    .dataframe tbody tr th:only-of-type {\n",
              "        vertical-align: middle;\n",
              "    }\n",
              "\n",
              "    .dataframe tbody tr th {\n",
              "        vertical-align: top;\n",
              "    }\n",
              "\n",
              "    .dataframe thead th {\n",
              "        text-align: right;\n",
              "    }\n",
              "</style>\n",
              "<table border=\"1\" class=\"dataframe\">\n",
              "  <thead>\n",
              "    <tr style=\"text-align: right;\">\n",
              "      <th></th>\n",
              "      <th>Time</th>\n",
              "      <th>V1</th>\n",
              "      <th>V2</th>\n",
              "      <th>V3</th>\n",
              "      <th>V4</th>\n",
              "      <th>V5</th>\n",
              "      <th>V6</th>\n",
              "      <th>V7</th>\n",
              "      <th>V8</th>\n",
              "      <th>V9</th>\n",
              "      <th>V10</th>\n",
              "      <th>V11</th>\n",
              "      <th>V12</th>\n",
              "      <th>V13</th>\n",
              "      <th>V14</th>\n",
              "      <th>V15</th>\n",
              "      <th>V16</th>\n",
              "      <th>V17</th>\n",
              "      <th>V18</th>\n",
              "      <th>V19</th>\n",
              "      <th>V20</th>\n",
              "      <th>V21</th>\n",
              "      <th>V22</th>\n",
              "      <th>V23</th>\n",
              "      <th>V24</th>\n",
              "      <th>V25</th>\n",
              "      <th>V26</th>\n",
              "      <th>V27</th>\n",
              "      <th>V28</th>\n",
              "      <th>Amount</th>\n",
              "      <th>Class</th>\n",
              "    </tr>\n",
              "  </thead>\n",
              "  <tbody>\n",
              "    <tr>\n",
              "      <th>5914</th>\n",
              "      <td>46387.0</td>\n",
              "      <td>-2.525765</td>\n",
              "      <td>1.934136</td>\n",
              "      <td>0.803184</td>\n",
              "      <td>1.571913</td>\n",
              "      <td>-1.621559</td>\n",
              "      <td>0.981111</td>\n",
              "      <td>-1.486179</td>\n",
              "      <td>2.180808</td>\n",
              "      <td>-0.069379</td>\n",
              "      <td>-0.663064</td>\n",
              "      <td>0.047970</td>\n",
              "      <td>2.150039</td>\n",
              "      <td>0.294070</td>\n",
              "      <td>0.439862</td>\n",
              "      <td>-2.210522</td>\n",
              "      <td>-1.019211</td>\n",
              "      <td>1.540313</td>\n",
              "      <td>-0.495781</td>\n",
              "      <td>1.540817</td>\n",
              "      <td>-0.180967</td>\n",
              "      <td>-0.148983</td>\n",
              "      <td>-0.410374</td>\n",
              "      <td>0.095628</td>\n",
              "      <td>0.024774</td>\n",
              "      <td>0.047707</td>\n",
              "      <td>-0.402202</td>\n",
              "      <td>-0.213922</td>\n",
              "      <td>-0.042551</td>\n",
              "      <td>9.90</td>\n",
              "      <td>0</td>\n",
              "    </tr>\n",
              "    <tr>\n",
              "      <th>1557</th>\n",
              "      <td>68207.0</td>\n",
              "      <td>-13.192671</td>\n",
              "      <td>12.785971</td>\n",
              "      <td>-9.906650</td>\n",
              "      <td>3.320337</td>\n",
              "      <td>-4.801176</td>\n",
              "      <td>5.760059</td>\n",
              "      <td>-18.750889</td>\n",
              "      <td>-37.353443</td>\n",
              "      <td>-0.391540</td>\n",
              "      <td>-5.052502</td>\n",
              "      <td>4.406806</td>\n",
              "      <td>-4.610756</td>\n",
              "      <td>-1.909488</td>\n",
              "      <td>-9.072711</td>\n",
              "      <td>-0.226074</td>\n",
              "      <td>-6.211557</td>\n",
              "      <td>-6.248145</td>\n",
              "      <td>-3.149247</td>\n",
              "      <td>0.051576</td>\n",
              "      <td>-3.493050</td>\n",
              "      <td>27.202839</td>\n",
              "      <td>-8.887017</td>\n",
              "      <td>5.303607</td>\n",
              "      <td>-0.639435</td>\n",
              "      <td>0.263203</td>\n",
              "      <td>-0.108877</td>\n",
              "      <td>1.269566</td>\n",
              "      <td>0.939407</td>\n",
              "      <td>1.00</td>\n",
              "      <td>1</td>\n",
              "    </tr>\n",
              "    <tr>\n",
              "      <th>3081</th>\n",
              "      <td>68207.0</td>\n",
              "      <td>-13.192671</td>\n",
              "      <td>12.785971</td>\n",
              "      <td>-9.906650</td>\n",
              "      <td>3.320337</td>\n",
              "      <td>-4.801176</td>\n",
              "      <td>5.760059</td>\n",
              "      <td>-18.750889</td>\n",
              "      <td>-37.353443</td>\n",
              "      <td>-0.391540</td>\n",
              "      <td>-5.052502</td>\n",
              "      <td>4.406806</td>\n",
              "      <td>-4.610756</td>\n",
              "      <td>-1.909488</td>\n",
              "      <td>-9.072711</td>\n",
              "      <td>-0.226074</td>\n",
              "      <td>-6.211557</td>\n",
              "      <td>-6.248145</td>\n",
              "      <td>-3.149247</td>\n",
              "      <td>0.051576</td>\n",
              "      <td>-3.493050</td>\n",
              "      <td>27.202839</td>\n",
              "      <td>-8.887017</td>\n",
              "      <td>5.303607</td>\n",
              "      <td>-0.639435</td>\n",
              "      <td>0.263203</td>\n",
              "      <td>-0.108877</td>\n",
              "      <td>1.269566</td>\n",
              "      <td>0.939407</td>\n",
              "      <td>1.00</td>\n",
              "      <td>1</td>\n",
              "    </tr>\n",
              "    <tr>\n",
              "      <th>8810</th>\n",
              "      <td>68207.0</td>\n",
              "      <td>-13.192671</td>\n",
              "      <td>12.785971</td>\n",
              "      <td>-9.906650</td>\n",
              "      <td>3.320337</td>\n",
              "      <td>-4.801176</td>\n",
              "      <td>5.760059</td>\n",
              "      <td>-18.750889</td>\n",
              "      <td>-37.353443</td>\n",
              "      <td>-0.391540</td>\n",
              "      <td>-5.052502</td>\n",
              "      <td>4.406806</td>\n",
              "      <td>-4.610756</td>\n",
              "      <td>-1.909488</td>\n",
              "      <td>-9.072711</td>\n",
              "      <td>-0.226074</td>\n",
              "      <td>-6.211557</td>\n",
              "      <td>-6.248145</td>\n",
              "      <td>-3.149247</td>\n",
              "      <td>0.051576</td>\n",
              "      <td>-3.493050</td>\n",
              "      <td>27.202839</td>\n",
              "      <td>-8.887017</td>\n",
              "      <td>5.303607</td>\n",
              "      <td>-0.639435</td>\n",
              "      <td>0.263203</td>\n",
              "      <td>-0.108877</td>\n",
              "      <td>1.269566</td>\n",
              "      <td>0.939407</td>\n",
              "      <td>1.00</td>\n",
              "      <td>1</td>\n",
              "    </tr>\n",
              "    <tr>\n",
              "      <th>9873</th>\n",
              "      <td>68207.0</td>\n",
              "      <td>-13.192671</td>\n",
              "      <td>12.785971</td>\n",
              "      <td>-9.906650</td>\n",
              "      <td>3.320337</td>\n",
              "      <td>-4.801176</td>\n",
              "      <td>5.760059</td>\n",
              "      <td>-18.750889</td>\n",
              "      <td>-37.353443</td>\n",
              "      <td>-0.391540</td>\n",
              "      <td>-5.052502</td>\n",
              "      <td>4.406806</td>\n",
              "      <td>-4.610756</td>\n",
              "      <td>-1.909488</td>\n",
              "      <td>-9.072711</td>\n",
              "      <td>-0.226074</td>\n",
              "      <td>-6.211557</td>\n",
              "      <td>-6.248145</td>\n",
              "      <td>-3.149247</td>\n",
              "      <td>0.051576</td>\n",
              "      <td>-3.493050</td>\n",
              "      <td>27.202839</td>\n",
              "      <td>-8.887017</td>\n",
              "      <td>5.303607</td>\n",
              "      <td>-0.639435</td>\n",
              "      <td>0.263203</td>\n",
              "      <td>-0.108877</td>\n",
              "      <td>1.269566</td>\n",
              "      <td>0.939407</td>\n",
              "      <td>1.00</td>\n",
              "      <td>1</td>\n",
              "    </tr>\n",
              "    <tr>\n",
              "      <th>11828</th>\n",
              "      <td>68207.0</td>\n",
              "      <td>-13.192671</td>\n",
              "      <td>12.785971</td>\n",
              "      <td>-9.906650</td>\n",
              "      <td>3.320337</td>\n",
              "      <td>-4.801176</td>\n",
              "      <td>5.760059</td>\n",
              "      <td>-18.750889</td>\n",
              "      <td>-37.353443</td>\n",
              "      <td>-0.391540</td>\n",
              "      <td>-5.052502</td>\n",
              "      <td>4.406806</td>\n",
              "      <td>-4.610756</td>\n",
              "      <td>-1.909488</td>\n",
              "      <td>-9.072711</td>\n",
              "      <td>-0.226074</td>\n",
              "      <td>-6.211557</td>\n",
              "      <td>-6.248145</td>\n",
              "      <td>-3.149247</td>\n",
              "      <td>0.051576</td>\n",
              "      <td>-3.493050</td>\n",
              "      <td>27.202839</td>\n",
              "      <td>-8.887017</td>\n",
              "      <td>5.303607</td>\n",
              "      <td>-0.639435</td>\n",
              "      <td>0.263203</td>\n",
              "      <td>-0.108877</td>\n",
              "      <td>1.269566</td>\n",
              "      <td>0.939407</td>\n",
              "      <td>1.00</td>\n",
              "      <td>1</td>\n",
              "    </tr>\n",
              "    <tr>\n",
              "      <th>4462</th>\n",
              "      <td>68913.0</td>\n",
              "      <td>-1.444574</td>\n",
              "      <td>0.990996</td>\n",
              "      <td>1.248015</td>\n",
              "      <td>-0.140729</td>\n",
              "      <td>0.102207</td>\n",
              "      <td>2.268415</td>\n",
              "      <td>-0.892379</td>\n",
              "      <td>1.544575</td>\n",
              "      <td>-0.163075</td>\n",
              "      <td>-1.296338</td>\n",
              "      <td>-0.754147</td>\n",
              "      <td>1.263930</td>\n",
              "      <td>1.560613</td>\n",
              "      <td>-0.101130</td>\n",
              "      <td>0.904102</td>\n",
              "      <td>-0.824906</td>\n",
              "      <td>1.004467</td>\n",
              "      <td>-1.819154</td>\n",
              "      <td>-1.094017</td>\n",
              "      <td>-0.250756</td>\n",
              "      <td>0.195424</td>\n",
              "      <td>0.590994</td>\n",
              "      <td>-0.018445</td>\n",
              "      <td>-1.735540</td>\n",
              "      <td>-0.399694</td>\n",
              "      <td>0.434685</td>\n",
              "      <td>-0.210222</td>\n",
              "      <td>-0.015109</td>\n",
              "      <td>6.14</td>\n",
              "      <td>0</td>\n",
              "    </tr>\n",
              "    <tr>\n",
              "      <th>7582</th>\n",
              "      <td>68965.0</td>\n",
              "      <td>-10.945028</td>\n",
              "      <td>4.441358</td>\n",
              "      <td>-5.294537</td>\n",
              "      <td>0.062109</td>\n",
              "      <td>-5.195177</td>\n",
              "      <td>-1.075054</td>\n",
              "      <td>-2.628561</td>\n",
              "      <td>4.219429</td>\n",
              "      <td>1.168256</td>\n",
              "      <td>1.545579</td>\n",
              "      <td>-2.086961</td>\n",
              "      <td>2.299629</td>\n",
              "      <td>1.144422</td>\n",
              "      <td>2.000331</td>\n",
              "      <td>-0.739820</td>\n",
              "      <td>1.084244</td>\n",
              "      <td>1.437628</td>\n",
              "      <td>-0.572519</td>\n",
              "      <td>-0.543741</td>\n",
              "      <td>-0.860438</td>\n",
              "      <td>-0.016697</td>\n",
              "      <td>-0.756737</td>\n",
              "      <td>-0.536232</td>\n",
              "      <td>0.480862</td>\n",
              "      <td>0.365185</td>\n",
              "      <td>-0.248012</td>\n",
              "      <td>-4.237346</td>\n",
              "      <td>-1.469759</td>\n",
              "      <td>11.53</td>\n",
              "      <td>0</td>\n",
              "    </tr>\n",
              "    <tr>\n",
              "      <th>6804</th>\n",
              "      <td>84204.0</td>\n",
              "      <td>-1.927453</td>\n",
              "      <td>1.827621</td>\n",
              "      <td>-7.019495</td>\n",
              "      <td>5.348303</td>\n",
              "      <td>-2.739188</td>\n",
              "      <td>-2.107219</td>\n",
              "      <td>-5.015848</td>\n",
              "      <td>1.205868</td>\n",
              "      <td>-4.382713</td>\n",
              "      <td>-8.337707</td>\n",
              "      <td>7.190306</td>\n",
              "      <td>-9.424844</td>\n",
              "      <td>-0.223293</td>\n",
              "      <td>-12.875494</td>\n",
              "      <td>-0.071918</td>\n",
              "      <td>-6.299961</td>\n",
              "      <td>-12.719207</td>\n",
              "      <td>-3.740176</td>\n",
              "      <td>0.844060</td>\n",
              "      <td>2.172709</td>\n",
              "      <td>1.376938</td>\n",
              "      <td>-0.792017</td>\n",
              "      <td>-0.771414</td>\n",
              "      <td>-0.379574</td>\n",
              "      <td>0.718717</td>\n",
              "      <td>1.111151</td>\n",
              "      <td>1.277707</td>\n",
              "      <td>0.819081</td>\n",
              "      <td>512.25</td>\n",
              "      <td>1</td>\n",
              "    </tr>\n",
              "    <tr>\n",
              "      <th>1199</th>\n",
              "      <td>84204.0</td>\n",
              "      <td>-0.937843</td>\n",
              "      <td>3.462889</td>\n",
              "      <td>-6.445104</td>\n",
              "      <td>4.932199</td>\n",
              "      <td>-2.233983</td>\n",
              "      <td>-2.291561</td>\n",
              "      <td>-5.695594</td>\n",
              "      <td>1.338825</td>\n",
              "      <td>-4.322377</td>\n",
              "      <td>-8.099119</td>\n",
              "      <td>7.182967</td>\n",
              "      <td>-9.445943</td>\n",
              "      <td>-0.314620</td>\n",
              "      <td>-12.991466</td>\n",
              "      <td>-0.136359</td>\n",
              "      <td>-6.367524</td>\n",
              "      <td>-12.734394</td>\n",
              "      <td>-3.845130</td>\n",
              "      <td>1.007667</td>\n",
              "      <td>1.129532</td>\n",
              "      <td>1.066550</td>\n",
              "      <td>-0.521657</td>\n",
              "      <td>-0.319917</td>\n",
              "      <td>-0.405859</td>\n",
              "      <td>0.906802</td>\n",
              "      <td>1.165784</td>\n",
              "      <td>1.374495</td>\n",
              "      <td>0.729889</td>\n",
              "      <td>0.00</td>\n",
              "      <td>1</td>\n",
              "    </tr>\n",
              "  </tbody>\n",
              "</table>\n",
              "</div>"
            ],
            "text/plain": [
              "          Time         V1         V2        V3        V4        V5        V6  \\\n",
              "5914   46387.0  -2.525765   1.934136  0.803184  1.571913 -1.621559  0.981111   \n",
              "1557   68207.0 -13.192671  12.785971 -9.906650  3.320337 -4.801176  5.760059   \n",
              "3081   68207.0 -13.192671  12.785971 -9.906650  3.320337 -4.801176  5.760059   \n",
              "8810   68207.0 -13.192671  12.785971 -9.906650  3.320337 -4.801176  5.760059   \n",
              "9873   68207.0 -13.192671  12.785971 -9.906650  3.320337 -4.801176  5.760059   \n",
              "11828  68207.0 -13.192671  12.785971 -9.906650  3.320337 -4.801176  5.760059   \n",
              "4462   68913.0  -1.444574   0.990996  1.248015 -0.140729  0.102207  2.268415   \n",
              "7582   68965.0 -10.945028   4.441358 -5.294537  0.062109 -5.195177 -1.075054   \n",
              "6804   84204.0  -1.927453   1.827621 -7.019495  5.348303 -2.739188 -2.107219   \n",
              "1199   84204.0  -0.937843   3.462889 -6.445104  4.932199 -2.233983 -2.291561   \n",
              "\n",
              "              V7         V8        V9       V10       V11       V12       V13  \\\n",
              "5914   -1.486179   2.180808 -0.069379 -0.663064  0.047970  2.150039  0.294070   \n",
              "1557  -18.750889 -37.353443 -0.391540 -5.052502  4.406806 -4.610756 -1.909488   \n",
              "3081  -18.750889 -37.353443 -0.391540 -5.052502  4.406806 -4.610756 -1.909488   \n",
              "8810  -18.750889 -37.353443 -0.391540 -5.052502  4.406806 -4.610756 -1.909488   \n",
              "9873  -18.750889 -37.353443 -0.391540 -5.052502  4.406806 -4.610756 -1.909488   \n",
              "11828 -18.750889 -37.353443 -0.391540 -5.052502  4.406806 -4.610756 -1.909488   \n",
              "4462   -0.892379   1.544575 -0.163075 -1.296338 -0.754147  1.263930  1.560613   \n",
              "7582   -2.628561   4.219429  1.168256  1.545579 -2.086961  2.299629  1.144422   \n",
              "6804   -5.015848   1.205868 -4.382713 -8.337707  7.190306 -9.424844 -0.223293   \n",
              "1199   -5.695594   1.338825 -4.322377 -8.099119  7.182967 -9.445943 -0.314620   \n",
              "\n",
              "             V14       V15       V16        V17       V18       V19       V20  \\\n",
              "5914    0.439862 -2.210522 -1.019211   1.540313 -0.495781  1.540817 -0.180967   \n",
              "1557   -9.072711 -0.226074 -6.211557  -6.248145 -3.149247  0.051576 -3.493050   \n",
              "3081   -9.072711 -0.226074 -6.211557  -6.248145 -3.149247  0.051576 -3.493050   \n",
              "8810   -9.072711 -0.226074 -6.211557  -6.248145 -3.149247  0.051576 -3.493050   \n",
              "9873   -9.072711 -0.226074 -6.211557  -6.248145 -3.149247  0.051576 -3.493050   \n",
              "11828  -9.072711 -0.226074 -6.211557  -6.248145 -3.149247  0.051576 -3.493050   \n",
              "4462   -0.101130  0.904102 -0.824906   1.004467 -1.819154 -1.094017 -0.250756   \n",
              "7582    2.000331 -0.739820  1.084244   1.437628 -0.572519 -0.543741 -0.860438   \n",
              "6804  -12.875494 -0.071918 -6.299961 -12.719207 -3.740176  0.844060  2.172709   \n",
              "1199  -12.991466 -0.136359 -6.367524 -12.734394 -3.845130  1.007667  1.129532   \n",
              "\n",
              "             V21       V22       V23       V24       V25       V26       V27  \\\n",
              "5914   -0.148983 -0.410374  0.095628  0.024774  0.047707 -0.402202 -0.213922   \n",
              "1557   27.202839 -8.887017  5.303607 -0.639435  0.263203 -0.108877  1.269566   \n",
              "3081   27.202839 -8.887017  5.303607 -0.639435  0.263203 -0.108877  1.269566   \n",
              "8810   27.202839 -8.887017  5.303607 -0.639435  0.263203 -0.108877  1.269566   \n",
              "9873   27.202839 -8.887017  5.303607 -0.639435  0.263203 -0.108877  1.269566   \n",
              "11828  27.202839 -8.887017  5.303607 -0.639435  0.263203 -0.108877  1.269566   \n",
              "4462    0.195424  0.590994 -0.018445 -1.735540 -0.399694  0.434685 -0.210222   \n",
              "7582   -0.016697 -0.756737 -0.536232  0.480862  0.365185 -0.248012 -4.237346   \n",
              "6804    1.376938 -0.792017 -0.771414 -0.379574  0.718717  1.111151  1.277707   \n",
              "1199    1.066550 -0.521657 -0.319917 -0.405859  0.906802  1.165784  1.374495   \n",
              "\n",
              "            V28  Amount  Class  \n",
              "5914  -0.042551    9.90      0  \n",
              "1557   0.939407    1.00      1  \n",
              "3081   0.939407    1.00      1  \n",
              "8810   0.939407    1.00      1  \n",
              "9873   0.939407    1.00      1  \n",
              "11828  0.939407    1.00      1  \n",
              "4462  -0.015109    6.14      0  \n",
              "7582  -1.469759   11.53      0  \n",
              "6804   0.819081  512.25      1  \n",
              "1199   0.729889    0.00      1  "
            ]
          },
          "execution_count": 157,
          "metadata": {},
          "output_type": "execute_result"
        }
      ],
      "source": [
        "# Duplicate visualization\n",
        "df[df.duplicated(keep='last')].sort_values(by=list(df.columns)).head(10)"
      ]
    },
    {
      "cell_type": "code",
      "execution_count": 158,
      "metadata": {
        "colab": {
          "base_uri": "https://localhost:8080/"
        },
        "id": "xFWGTgUTLXbJ",
        "outputId": "af72f879-d69c-4bec-ed8b-7cb94aa6b50e"
      },
      "outputs": [
        {
          "name": "stdout",
          "output_type": "stream",
          "text": [
            "Total non-numeric cols: 0\n",
            "Total rows: 20492\n",
            "Total duplicates: 48\n",
            "Can be removed: 27\n",
            "After removing duplicates: 20465\n"
          ]
        }
      ],
      "source": [
        "data_cleaning(df, DUPLICATE_HANDLING)"
      ]
    },
    {
      "cell_type": "markdown",
      "metadata": {
        "id": "LIatGE0WLXbJ"
      },
      "source": [
        "### Features, Target SPLIT"
      ]
    },
    {
      "cell_type": "code",
      "execution_count": 159,
      "metadata": {
        "id": "Z4BNPmo7LXbK"
      },
      "outputs": [],
      "source": [
        "df.reset_index(drop=True, inplace=True) # Apparantly, impacts the corr analysis\n",
        "\n",
        "features = df.drop(columns=[target])\n",
        "label = df[[target]].copy()"
      ]
    },
    {
      "cell_type": "markdown",
      "metadata": {
        "id": "gkQ83JisLXbK"
      },
      "source": [
        "### ENCODING"
      ]
    },
    {
      "cell_type": "code",
      "execution_count": 160,
      "metadata": {
        "colab": {
          "base_uri": "https://localhost:8080/"
        },
        "id": "0E4EYbqMLXbL",
        "outputId": "f223eb9c-fa00-4f81-8c04-352d110eb8ad"
      },
      "outputs": [
        {
          "data": {
            "text/plain": [
              "(20465, 30)"
            ]
          },
          "execution_count": 160,
          "metadata": {},
          "output_type": "execute_result"
        }
      ],
      "source": [
        "# Before one-hot encoding\n",
        "features.shape"
      ]
    },
    {
      "cell_type": "code",
      "execution_count": 161,
      "metadata": {
        "colab": {
          "base_uri": "https://localhost:8080/"
        },
        "id": "qi6WMX8hLXbL",
        "outputId": "bfdc9dcd-9b91-42ef-da1e-fee2aca64123"
      },
      "outputs": [
        {
          "name": "stdout",
          "output_type": "stream",
          "text": [
            "Total non-numeric cols: 0\n"
          ]
        }
      ],
      "source": [
        "features, label = encode_data(features, label)"
      ]
    },
    {
      "cell_type": "code",
      "execution_count": 162,
      "metadata": {
        "colab": {
          "base_uri": "https://localhost:8080/"
        },
        "id": "-PokjPobLXbM",
        "outputId": "f102728d-bd36-42fe-f6be-23508e021ffb"
      },
      "outputs": [
        {
          "data": {
            "text/plain": [
              "(20465, 30)"
            ]
          },
          "execution_count": 162,
          "metadata": {},
          "output_type": "execute_result"
        }
      ],
      "source": [
        "# After one-hot encoding\n",
        "features.shape"
      ]
    },
    {
      "cell_type": "markdown",
      "metadata": {},
      "source": [
        "# RUN-4"
      ]
    },
    {
      "cell_type": "markdown",
      "metadata": {
        "id": "cNRQSI46vHZc"
      },
      "source": [
        "## **SCALING**\n",
        "Scale the **features** that are not encoded"
      ]
    },
    {
      "cell_type": "code",
      "execution_count": 20,
      "metadata": {
        "id": "6kCCPFjhvhIi"
      },
      "outputs": [],
      "source": [
        "def scale_data(scaling_type):\n",
        "    scaler = None\n",
        "    if scaling_type == 'minmax':\n",
        "        scaler = MinMaxScaler()\n",
        "    else:\n",
        "        scaler = StandardScaler()\n",
        "    return scaler"
      ]
    },
    {
      "cell_type": "code",
      "execution_count": 21,
      "metadata": {
        "colab": {
          "base_uri": "https://localhost:8080/",
          "height": 565
        },
        "id": "y661LV_xvLth",
        "outputId": "67413d97-ee47-4640-96de-79e2279f34e1"
      },
      "outputs": [
        {
          "name": "stdout",
          "output_type": "stream",
          "text": [
            "Index(['X1', 'X2'], dtype='object')\n"
          ]
        },
        {
          "data": {
            "text/html": [
              "<div>\n",
              "<style scoped>\n",
              "    .dataframe tbody tr th:only-of-type {\n",
              "        vertical-align: middle;\n",
              "    }\n",
              "\n",
              "    .dataframe tbody tr th {\n",
              "        vertical-align: top;\n",
              "    }\n",
              "\n",
              "    .dataframe thead th {\n",
              "        text-align: right;\n",
              "    }\n",
              "</style>\n",
              "<table border=\"1\" class=\"dataframe\">\n",
              "  <thead>\n",
              "    <tr style=\"text-align: right;\">\n",
              "      <th></th>\n",
              "      <th>X1</th>\n",
              "      <th>X2</th>\n",
              "    </tr>\n",
              "  </thead>\n",
              "  <tbody>\n",
              "    <tr>\n",
              "      <th>0</th>\n",
              "      <td>0.505470</td>\n",
              "      <td>0.657384</td>\n",
              "    </tr>\n",
              "    <tr>\n",
              "      <th>1</th>\n",
              "      <td>0.566144</td>\n",
              "      <td>0.102054</td>\n",
              "    </tr>\n",
              "    <tr>\n",
              "      <th>2</th>\n",
              "      <td>0.596884</td>\n",
              "      <td>0.668927</td>\n",
              "    </tr>\n",
              "    <tr>\n",
              "      <th>3</th>\n",
              "      <td>0.679418</td>\n",
              "      <td>0.833698</td>\n",
              "    </tr>\n",
              "    <tr>\n",
              "      <th>4</th>\n",
              "      <td>0.385150</td>\n",
              "      <td>0.317862</td>\n",
              "    </tr>\n",
              "    <tr>\n",
              "      <th>...</th>\n",
              "      <td>...</td>\n",
              "      <td>...</td>\n",
              "    </tr>\n",
              "    <tr>\n",
              "      <th>2995</th>\n",
              "      <td>0.692566</td>\n",
              "      <td>0.660877</td>\n",
              "    </tr>\n",
              "    <tr>\n",
              "      <th>2996</th>\n",
              "      <td>0.463817</td>\n",
              "      <td>0.083045</td>\n",
              "    </tr>\n",
              "    <tr>\n",
              "      <th>2997</th>\n",
              "      <td>0.471569</td>\n",
              "      <td>0.087190</td>\n",
              "    </tr>\n",
              "    <tr>\n",
              "      <th>2998</th>\n",
              "      <td>0.803880</td>\n",
              "      <td>0.180547</td>\n",
              "    </tr>\n",
              "    <tr>\n",
              "      <th>2999</th>\n",
              "      <td>0.182556</td>\n",
              "      <td>0.343633</td>\n",
              "    </tr>\n",
              "  </tbody>\n",
              "</table>\n",
              "<p>3000 rows × 2 columns</p>\n",
              "</div>"
            ],
            "text/plain": [
              "            X1        X2\n",
              "0     0.505470  0.657384\n",
              "1     0.566144  0.102054\n",
              "2     0.596884  0.668927\n",
              "3     0.679418  0.833698\n",
              "4     0.385150  0.317862\n",
              "...        ...       ...\n",
              "2995  0.692566  0.660877\n",
              "2996  0.463817  0.083045\n",
              "2997  0.471569  0.087190\n",
              "2998  0.803880  0.180547\n",
              "2999  0.182556  0.343633\n",
              "\n",
              "[3000 rows x 2 columns]"
            ]
          },
          "execution_count": 21,
          "metadata": {},
          "output_type": "execute_result"
        }
      ],
      "source": [
        "num_cols = features.select_dtypes(include='number').columns\n",
        "print(num_cols)\n",
        "\n",
        "# pd.set_option('display.max_rows', None)\n",
        "pd.set_option('display.max_columns', None)\n",
        "\n",
        "for col in num_cols:\n",
        "    scaler = scale_data('minmax')\n",
        "    features[col] = scaler.fit_transform(features[[col]])\n",
        "features"
      ]
    },
    {
      "cell_type": "markdown",
      "metadata": {
        "id": "jGgrLsvqz-9W"
      },
      "source": [
        "## **TOP FEATURES**\n",
        "---\n",
        "Take best correlated features for training"
      ]
    },
    {
      "cell_type": "code",
      "execution_count": 22,
      "metadata": {
        "colab": {
          "base_uri": "https://localhost:8080/",
          "height": 424
        },
        "id": "2Hk2X1G6FKWJ",
        "outputId": "7809e535-e786-4347-da2b-91624a441247"
      },
      "outputs": [
        {
          "data": {
            "text/html": [
              "<div>\n",
              "<style scoped>\n",
              "    .dataframe tbody tr th:only-of-type {\n",
              "        vertical-align: middle;\n",
              "    }\n",
              "\n",
              "    .dataframe tbody tr th {\n",
              "        vertical-align: top;\n",
              "    }\n",
              "\n",
              "    .dataframe thead th {\n",
              "        text-align: right;\n",
              "    }\n",
              "</style>\n",
              "<table border=\"1\" class=\"dataframe\">\n",
              "  <thead>\n",
              "    <tr style=\"text-align: right;\">\n",
              "      <th></th>\n",
              "      <th>y</th>\n",
              "    </tr>\n",
              "  </thead>\n",
              "  <tbody>\n",
              "    <tr>\n",
              "      <th>0</th>\n",
              "      <td>1</td>\n",
              "    </tr>\n",
              "    <tr>\n",
              "      <th>1</th>\n",
              "      <td>0</td>\n",
              "    </tr>\n",
              "    <tr>\n",
              "      <th>2</th>\n",
              "      <td>1</td>\n",
              "    </tr>\n",
              "    <tr>\n",
              "      <th>3</th>\n",
              "      <td>0</td>\n",
              "    </tr>\n",
              "    <tr>\n",
              "      <th>4</th>\n",
              "      <td>1</td>\n",
              "    </tr>\n",
              "    <tr>\n",
              "      <th>...</th>\n",
              "      <td>...</td>\n",
              "    </tr>\n",
              "    <tr>\n",
              "      <th>2995</th>\n",
              "      <td>1</td>\n",
              "    </tr>\n",
              "    <tr>\n",
              "      <th>2996</th>\n",
              "      <td>0</td>\n",
              "    </tr>\n",
              "    <tr>\n",
              "      <th>2997</th>\n",
              "      <td>0</td>\n",
              "    </tr>\n",
              "    <tr>\n",
              "      <th>2998</th>\n",
              "      <td>0</td>\n",
              "    </tr>\n",
              "    <tr>\n",
              "      <th>2999</th>\n",
              "      <td>0</td>\n",
              "    </tr>\n",
              "  </tbody>\n",
              "</table>\n",
              "<p>3000 rows × 1 columns</p>\n",
              "</div>"
            ],
            "text/plain": [
              "      y\n",
              "0     1\n",
              "1     0\n",
              "2     1\n",
              "3     0\n",
              "4     1\n",
              "...  ..\n",
              "2995  1\n",
              "2996  0\n",
              "2997  0\n",
              "2998  0\n",
              "2999  0\n",
              "\n",
              "[3000 rows x 1 columns]"
            ]
          },
          "execution_count": 22,
          "metadata": {},
          "output_type": "execute_result"
        }
      ],
      "source": [
        "label"
      ]
    },
    {
      "cell_type": "code",
      "execution_count": 23,
      "metadata": {
        "colab": {
          "base_uri": "https://localhost:8080/",
          "height": 476
        },
        "id": "HxYxK_xW0Ewq",
        "outputId": "5a13d79b-53ee-4047-dd7d-b5dbdaf7ce92"
      },
      "outputs": [
        {
          "name": "stdout",
          "output_type": "stream",
          "text": [
            "Total features available: 2\n"
          ]
        },
        {
          "data": {
            "text/plain": [
              "X1    0.006938\n",
              "X2    0.002624\n",
              "dtype: float64"
            ]
          },
          "execution_count": 23,
          "metadata": {},
          "output_type": "execute_result"
        }
      ],
      "source": [
        "print(\"Total features available:\", len(features.columns))\n",
        "\n",
        "features_count = 20 # Default\n",
        "if DATASET == 'telco':\n",
        "    features_count = 40\n",
        "elif DATASET == 'adult':\n",
        "    features_count = 40\n",
        "elif DATASET == 'credit_card':\n",
        "    features_count = 30\n",
        "corr_series = features.corrwith(label[target])\n",
        "top_features = corr_series.abs().sort_values(ascending=False).head(features_count)\n",
        "top_features"
      ]
    },
    {
      "cell_type": "code",
      "execution_count": 24,
      "metadata": {
        "colab": {
          "base_uri": "https://localhost:8080/"
        },
        "id": "IJXBcc_A2MEX",
        "outputId": "fb686e48-5586-41e0-f026-eef40b943684"
      },
      "outputs": [
        {
          "data": {
            "text/plain": [
              "(3000, 2)"
            ]
          },
          "execution_count": 24,
          "metadata": {},
          "output_type": "execute_result"
        }
      ],
      "source": [
        "features = features[top_features.index].copy()\n",
        "if DATASET == 'adult':\n",
        "    test_features = test_features[top_features.index].copy()\n",
        "features.shape"
      ]
    },
    {
      "cell_type": "markdown",
      "metadata": {
        "id": "z6zWT1ni7onO"
      },
      "source": [
        "## **BAGGING**\n",
        "---\n",
        "Format: bag -> (features, target)"
      ]
    },
    {
      "cell_type": "code",
      "execution_count": 25,
      "metadata": {
        "id": "mefeIMvn7n68"
      },
      "outputs": [],
      "source": [
        "def create_bags(n, x_train, y_train):\n",
        "    bags = []\n",
        "    for _ in range(n):\n",
        "        bag = pd.concat([x_train, y_train], axis=1).sample(frac=1, replace=True)\n",
        "        bags.append((bag.drop(columns=target, axis=1), bag[[target]].copy()))\n",
        "    return bags"
      ]
    },
    {
      "cell_type": "markdown",
      "metadata": {
        "id": "ZaWwfV5TBLc3"
      },
      "source": [
        "# RUN-5\n",
        "---"
      ]
    },
    {
      "cell_type": "code",
      "execution_count": 26,
      "metadata": {},
      "outputs": [],
      "source": [
        "def print_performance_metrics(metrics):\n",
        "    with open('Log.txt', 'a') as sourceFile:\n",
        "        print(f\"Accuracy: {metrics[0]:.4f}\", file=sourceFile)\n",
        "        print(f\"Sensitivity: {metrics[1]:.4f}\", file=sourceFile)\n",
        "        print(f\"Specificity: {metrics[2]:.4f}\", file=sourceFile)\n",
        "        print(f\"Precision: {metrics[3]:.4f}\", file=sourceFile)\n",
        "        print(f\"F1-Score: {metrics[4]:.4f}\", file=sourceFile)\n",
        "        print(f\"AUROC: {metrics[5]:.4f}\", file=sourceFile)\n",
        "        print(f\"AUPR: {metrics[6]:.4f}\", file=sourceFile)\n",
        "        sourceFile.flush()  # Force writing to file\n",
        "\n",
        "    print(\"Metrics written to Log.txt\")  # Optional message to confirm logging\n"
      ]
    },
    {
      "cell_type": "markdown",
      "metadata": {
        "id": "FZYJoriWDdaU"
      },
      "source": [
        "## Classifiers"
      ]
    },
    {
      "cell_type": "code",
      "execution_count": 27,
      "metadata": {
        "colab": {
          "base_uri": "https://localhost:8080/"
        },
        "id": "gTYIuSTLBNxr",
        "outputId": "c7692612-8389-4227-8b80-9f2a2017ec66"
      },
      "outputs": [],
      "source": [
        "def base_train(bags, epochs, batch_size):\n",
        "    base_classifiers = [] # Weights basically\n",
        "    default_LR = False\n",
        "\n",
        "    for i, bag in enumerate(bags):\n",
        "        features = bag[0].to_numpy().astype('float64')\n",
        "        targets = bag[1].to_numpy().astype('float64').flatten()\n",
        "\n",
        "        if default_LR == False:\n",
        "            model = train_model(features, targets, epochs=epochs, batch_size=batch_size)\n",
        "            base_classifiers.append(model)\n",
        "        else:\n",
        "            model = LogisticRegression()\n",
        "            model.fit(features, targets)\n",
        "            base_classifiers.append(model)\n",
        "        print(f'Base classifier {i+1} trained successfully')\n",
        "\n",
        "    return base_classifiers\n",
        "\n",
        "## Meta Classifier\n",
        "def meta_predict(x_train, y_train, x_test, y_test, epochs, batch_size, bags):\n",
        "    print(\"------------Stacking Ensemble-----------\")\n",
        "    \n",
        "    base_classifiers = base_train(bags, epochs=epochs, batch_size=batch_size)\n",
        "\n",
        "    meta_dataset, test_dataset = x_train.copy(), x_test.copy()\n",
        "    test_features_arr, meta_features_arr = x_test.to_numpy().astype('float64'), x_train.to_numpy().astype('float64')\n",
        "\n",
        "    for model in base_classifiers:\n",
        "        meta_preds = predict(meta_features_arr, model)\n",
        "        meta_dataset = pd.concat([meta_dataset, pd.DataFrame(meta_preds)], axis=1)\n",
        "        test_preds = predict(test_features_arr, model)\n",
        "        test_dataset = pd.concat([test_dataset, pd.DataFrame(test_preds)], axis=1)\n",
        "\n",
        "    meta_dataset_arr = meta_dataset.to_numpy().astype('float64')\n",
        "    meta_model = train_model(meta_dataset_arr, y_train.to_numpy().flatten(), epochs=epochs, batch_size=batch_size)\n",
        "\n",
        "    test_dataset_arr = test_dataset.to_numpy().astype('float64')\n",
        "    test_targets_arr = y_test.to_numpy().flatten()\n",
        "    \n",
        "    # Testing the meta classifier\n",
        "    meta_preds = predict(test_dataset_arr, meta_model)\n",
        "\n",
        "    print_performance_metrics(evaluate_metrics(meta_preds, test_targets_arr))\n"
      ]
    },
    {
      "cell_type": "markdown",
      "metadata": {
        "id": "dFPyvv2--BIU"
      },
      "source": [
        "## Voting Ensemble"
      ]
    },
    {
      "cell_type": "code",
      "execution_count": 28,
      "metadata": {
        "colab": {
          "base_uri": "https://localhost:8080/"
        },
        "id": "DFIilKmx-Dwh",
        "outputId": "a12f9bb4-ba61-4102-8b68-d1f20b35e797"
      },
      "outputs": [],
      "source": [
        "def majority_vote_predict(x_test, y_test, epochs, batch_size, bags):\n",
        "    print(\"------------Majority Voting Ensemble-----------\")\n",
        "    \n",
        "    base_classifiers = base_train(bags, epochs=epochs, batch_size=batch_size)\n",
        "\n",
        "    model_preds = []\n",
        "\n",
        "    # Collect predictions from each model for every example\n",
        "    features = x_test.astype('float64').to_numpy()\n",
        "    targets = y_test.astype('float64').to_numpy().flatten()\n",
        "\n",
        "    for model in base_classifiers:\n",
        "        preds_for_model = predict(features, wt=model)\n",
        "        model_preds.append(preds_for_model)\n",
        "\n",
        "    preds_per_example = np.array(model_preds).T  # Shape: (num_examples, num_models)\n",
        "\n",
        "    # Calculate majority vote for each example\n",
        "    final_preds = []\n",
        "    for preds in preds_per_example:\n",
        "        majority_vote = np.mean(preds)  # Majority voting\n",
        "        final_preds.append(majority_vote)\n",
        "\n",
        "    print_performance_metrics(evaluate_metrics(final_preds, targets))"
      ]
    },
    {
      "cell_type": "markdown",
      "metadata": {},
      "source": [
        "## Average LR Model"
      ]
    },
    {
      "cell_type": "markdown",
      "metadata": {},
      "source": [
        "**Violin Plot**"
      ]
    },
    {
      "cell_type": "code",
      "execution_count": 29,
      "metadata": {},
      "outputs": [],
      "source": [
        "def violin_plot(metrics_per_classifier):   \n",
        "    # Convert metrics to a DataFrame for easy plotting\n",
        "    metrics_array = np.array(metrics_per_classifier)\n",
        "    metrics_df = pd.DataFrame(metrics_array, columns=['Accuracy', 'Sensitivity', 'Specificity', 'Precision', 'F1 Score', 'AUROC', 'AUPR'])\n",
        "\n",
        "    # Melt the DataFrame to long format for Seaborn\n",
        "    metrics_long = metrics_df.melt(var_name='Metric', value_name='Value')\n",
        "\n",
        "    # Plot a single violin plot for all metrics\n",
        "    plt.figure(figsize=(10, 6))\n",
        "    sns.violinplot(x='Metric', y='Value', data=metrics_long)\n",
        "    plt.title('Violin Plots for Performance Metrics of Bagging LR Learners')\n",
        "    plt.ylabel('Value')\n",
        "    plt.xticks(rotation=45)\n",
        "    plt.tight_layout()\n",
        "    plt.show()"
      ]
    },
    {
      "cell_type": "code",
      "execution_count": 30,
      "metadata": {},
      "outputs": [],
      "source": [
        "def average_lr_prediction(x_test, y_test, epochs, batch_size, bags, plot=False):\n",
        "    print(\"------------Average LR Ensemble-----------\")\n",
        "\n",
        "    base_classifiers = base_train(bags, epochs=epochs, batch_size=batch_size)\n",
        "\n",
        "    features = x_test.astype('float64').to_numpy()\n",
        "    targets = y_test.astype('float64').to_numpy().flatten()\n",
        "\n",
        "    metrics_per_classifier = []\n",
        "    # Collect metrics for each base classifier\n",
        "    for model in base_classifiers:\n",
        "        preds_for_model = predict(features, wt=model)\n",
        "        metrics = evaluate_metrics(preds_for_model, targets)\n",
        "        metrics_per_classifier.append(metrics)\n",
        "\n",
        "    # Calculate average and stddev for metrics\n",
        "    metrics_per_classifier = np.array(metrics_per_classifier)\n",
        "    avg_metrics = np.mean(metrics_per_classifier, axis=0)\n",
        "    std_metrics = np.std(metrics_per_classifier, axis=0)\n",
        "\n",
        "    # Define metric names\n",
        "    metric_names = ['Accuracy', 'Sensitivity', 'Specificity', 'Precision', 'F1 Score', 'AUROC', 'AUPR']\n",
        "    \n",
        "    # Print mean and stddev for each metric\n",
        "    with open('Log.txt', 'a') as sourceFile:\n",
        "        for name, avg, std in zip(metric_names, avg_metrics, std_metrics):\n",
        "            print(f\"{name}: {avg:.4f} +- {std:.4f}\", file=sourceFile)\n",
        "        sourceFile.flush()\n",
        "\n",
        "    # Optional plotting\n",
        "    if plot:\n",
        "        metrics_long = pd.DataFrame(metrics_per_classifier, columns=metric_names).melt(var_name='Metric', value_name='Value')\n",
        "        plt.figure(figsize=(10, 6))\n",
        "        sns.violinplot(x='Metric', y='Value', data=metrics_long)\n",
        "        plt.title('Violin Plots for Performance Metrics of Bagging LR Learners')\n",
        "        plt.ylabel('Value')\n",
        "        plt.xticks(rotation=45)\n",
        "        plt.tight_layout()\n",
        "        plt.show()"
      ]
    },
    {
      "cell_type": "markdown",
      "metadata": {},
      "source": [
        "## MODEL RUNS\n",
        "---\n",
        "**Data Split** \\\n",
        "Train (train-set): 64% \\\n",
        "Val (train-set): 16% \\\n",
        "Test: 20%"
      ]
    },
    {
      "cell_type": "markdown",
      "metadata": {},
      "source": [
        "### Data Splits"
      ]
    },
    {
      "cell_type": "code",
      "execution_count": 34,
      "metadata": {},
      "outputs": [
        {
          "name": "stdout",
          "output_type": "stream",
          "text": [
            "---------------------------------------------------------------------------------------------------\n",
            "Total bags created: 9\n"
          ]
        }
      ],
      "source": [
        "if DATASET == 'adult':\n",
        "    x_train, x_val, y_train, y_val = train_test_split(features, label, test_size=0.2, random_state=SEED)\n",
        "    x_test = test_features.copy()\n",
        "    y_test = test_label.copy()\n",
        "else:\n",
        "    x_train, x_test, y_train, y_test = train_test_split(features, label, test_size=0.2, random_state=SEED)\n",
        "    x_train, x_val, y_train, y_val = train_test_split(x_train, y_train, test_size=0.2, random_state=SEED)\n",
        "\n",
        "x_train.reset_index(drop=True, inplace=True)\n",
        "x_val.reset_index(drop=True, inplace=True)\n",
        "x_test.reset_index(drop=True, inplace=True)\n",
        "y_train.reset_index(drop=True, inplace=True)\n",
        "y_val.reset_index(drop=True, inplace=True)\n",
        "y_test.reset_index(drop=True, inplace=True)\n",
        "\n",
        "yes_classes = y_train[y_train[target] == 1].shape[0]\n",
        "no_classes = y_train[y_train[target] == 0].shape[0]\n",
        "\n",
        "with open('Log.txt', 'a') as sourceFile:\n",
        "    print(\"---------------------------------------------------------------------------------------------------\")\n",
        "    print(f\"Dataset: {DATASET}, size: {features.shape}\", file=sourceFile)\n",
        "    print(f\"Train set details | size: {y_train.shape[0]} => yes: {yes_classes}, no: {no_classes}\", file=sourceFile)\n",
        "    print(f\"Validation set details | size: {y_val.shape[0]}\", file=sourceFile)\n",
        "    print(f\"Test set details | size: {y_test.shape[0]}\", file=sourceFile)\n",
        "\n",
        "bags = create_bags(9, x_train, y_train)\n",
        "print(\"Total bags created:\", len(bags))"
      ]
    },
    {
      "cell_type": "markdown",
      "metadata": {},
      "source": [
        "### Train and Test Models"
      ]
    },
    {
      "cell_type": "code",
      "execution_count": 35,
      "metadata": {},
      "outputs": [
        {
          "name": "stdout",
          "output_type": "stream",
          "text": [
            "------------Average LR Ensemble-----------\n",
            "alpha: 0.1, beta: 0.1, regularizer_type: l1\n",
            "Epochs --------------------------------- 100\n",
            "Base classifier 1 trained successfully\n",
            "alpha: 0.1, beta: 0.1, regularizer_type: l1\n",
            "Epochs --------------------------------- 100\n",
            "Base classifier 2 trained successfully\n",
            "alpha: 0.1, beta: 0.1, regularizer_type: l1\n",
            "Epochs --------------------------------- 100\n",
            "Base classifier 3 trained successfully\n",
            "alpha: 0.1, beta: 0.1, regularizer_type: l1\n",
            "Epochs --------------------------------- 100\n",
            "Base classifier 4 trained successfully\n",
            "alpha: 0.1, beta: 0.1, regularizer_type: l1\n",
            "Epochs --------------------------------- 100\n",
            "Base classifier 5 trained successfully\n",
            "alpha: 0.1, beta: 0.1, regularizer_type: l1\n",
            "Epochs --------------------------------- 100\n",
            "Base classifier 6 trained successfully\n",
            "alpha: 0.1, beta: 0.1, regularizer_type: l1\n",
            "Epochs --------------------------------- 100\n",
            "Base classifier 7 trained successfully\n",
            "alpha: 0.1, beta: 0.1, regularizer_type: l1\n",
            "Epochs --------------------------------- 100\n",
            "Base classifier 8 trained successfully\n",
            "alpha: 0.1, beta: 0.1, regularizer_type: l1\n",
            "Epochs --------------------------------- 100\n",
            "Base classifier 9 trained successfully\n"
          ]
        },
        {
          "data": {
            "image/png": "[encoded data removed]",
            "text/plain": [
              "<Figure size 1000x600 with 1 Axes>"
            ]
          },
          "metadata": {},
          "output_type": "display_data"
        },
        {
          "name": "stdout",
          "output_type": "stream",
          "text": [
            "------------Majority Voting Ensemble-----------\n",
            "alpha: 0.1, beta: 0.1, regularizer_type: l1\n",
            "Epochs --------------------------------- 100\n",
            "Base classifier 1 trained successfully\n",
            "alpha: 0.1, beta: 0.1, regularizer_type: l1\n",
            "Epochs --------------------------------- 100\n",
            "Base classifier 2 trained successfully\n",
            "alpha: 0.1, beta: 0.1, regularizer_type: l1\n",
            "Epochs --------------------------------- 100\n",
            "Base classifier 3 trained successfully\n",
            "alpha: 0.1, beta: 0.1, regularizer_type: l1\n",
            "Epochs --------------------------------- 100\n",
            "Base classifier 4 trained successfully\n",
            "alpha: 0.1, beta: 0.1, regularizer_type: l1\n",
            "Epochs --------------------------------- 100\n",
            "Base classifier 5 trained successfully\n",
            "alpha: 0.1, beta: 0.1, regularizer_type: l1\n",
            "Epochs --------------------------------- 100\n",
            "Base classifier 6 trained successfully\n",
            "alpha: 0.1, beta: 0.1, regularizer_type: l1\n",
            "Epochs --------------------------------- 100\n",
            "Base classifier 7 trained successfully\n",
            "alpha: 0.1, beta: 0.1, regularizer_type: l1\n",
            "Epochs --------------------------------- 100\n",
            "Base classifier 8 trained successfully\n",
            "alpha: 0.1, beta: 0.1, regularizer_type: l1\n",
            "Epochs --------------------------------- 100\n",
            "Base classifier 9 trained successfully\n",
            "Metrics written to Log.txt\n",
            "------------Stacking Ensemble-----------\n",
            "alpha: 0.1, beta: 0.1, regularizer_type: l1\n",
            "Epochs --------------------------------- 100\n",
            "Base classifier 1 trained successfully\n",
            "alpha: 0.1, beta: 0.1, regularizer_type: l1\n",
            "Epochs --------------------------------- 100\n",
            "Base classifier 2 trained successfully\n",
            "alpha: 0.1, beta: 0.1, regularizer_type: l1\n",
            "Epochs --------------------------------- 100\n",
            "Base classifier 3 trained successfully\n",
            "alpha: 0.1, beta: 0.1, regularizer_type: l1\n",
            "Epochs --------------------------------- 100\n",
            "Base classifier 4 trained successfully\n",
            "alpha: 0.1, beta: 0.1, regularizer_type: l1\n",
            "Epochs --------------------------------- 100\n",
            "Base classifier 5 trained successfully\n",
            "alpha: 0.1, beta: 0.1, regularizer_type: l1\n",
            "Epochs --------------------------------- 100\n",
            "Base classifier 6 trained successfully\n",
            "alpha: 0.1, beta: 0.1, regularizer_type: l1\n",
            "Epochs --------------------------------- 100\n",
            "Base classifier 7 trained successfully\n",
            "alpha: 0.1, beta: 0.1, regularizer_type: l1\n",
            "Epochs --------------------------------- 100\n",
            "Base classifier 8 trained successfully\n",
            "alpha: 0.1, beta: 0.1, regularizer_type: l1\n",
            "Epochs --------------------------------- 100\n",
            "Base classifier 9 trained successfully\n",
            "alpha: 0.1, beta: 0.1, regularizer_type: l1\n",
            "Epochs --------------------------------- 100\n",
            "Metrics written to Log.txt\n"
          ]
        }
      ],
      "source": [
        "with open('Log.txt', 'a') as sourceFile: print(\"--------------Average LR Ensemble-------------\", file=sourceFile)\n",
        "average_lr_prediction(x_test, y_test, epochs=100, batch_size=200, bags=bags, plot=True)\n",
        "\n",
        "with open('Log.txt', 'a') as sourceFile: print(\"--------------Majority Voting Ensemble-------------\", file=sourceFile)\n",
        "majority_vote_predict(x_test, y_test, epochs=100, batch_size=200, bags=bags)\n",
        "\n",
        "with open('Log.txt', 'a') as sourceFile: print(\"--------------Stacking Ensemble-------------\", file=sourceFile)\n",
        "meta_predict(x_val, y_val, x_test, y_test, epochs=100, batch_size=200, bags=bags)"
      ]
    },
    {
      "cell_type": "code",
      "execution_count": 36,
      "metadata": {},
      "outputs": [],
      "source": [
        "# sourceFile.close()"
      ]
    },
    {
      "cell_type": "code",
      "execution_count": 37,
      "metadata": {},
      "outputs": [],
      "source": [
        "# use the lr from scikit learn to measure accuracy\n",
        "# lr = LogisticRegression()\n",
        "# lr.fit(x_train, y_train)\n",
        "# y_pred = lr.predict(x_test)\n",
        "# print(accuracy_score(y_test, y_pred))"
      ]
    }
  ],
  "metadata": {
    "colab": {
      "collapsed_sections": [
        "2dOtR6IUeVAY",
        "xJuna4WDeVAi",
        "oD25GqZ3LXbC"
      ],
      "provenance": [],
      "toc_visible": true
    },
    "kernelspec": {
      "display_name": "base",
      "language": "python",
      "name": "python3"
    },
    "language_info": {
      "codemirror_mode": {
        "name": "ipython",
        "version": 3
      },
      "file_extension": ".py",
      "mimetype": "text/x-python",
      "name": "python",
      "nbconvert_exporter": "python",
      "pygments_lexer": "ipython3",
      "version": "3.12.4"
    }
  },
  "nbformat": 4,
  "nbformat_minor": 0
}
